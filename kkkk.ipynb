{
 "cells": [
  {
   "cell_type": "code",
   "execution_count": 3,
   "id": "initial_id",
   "metadata": {
    "collapsed": true,
    "ExecuteTime": {
     "end_time": "2023-09-26T23:05:47.193561Z",
     "start_time": "2023-09-26T23:05:45.019213Z"
    }
   },
   "outputs": [],
   "source": [
    "#RL Card\n",
    "import rlcard\n",
    "from rlcard.agents.dqn_agent import DQNAgent\n",
    "from rlcard.agents import RandomAgent\n",
    "from rlcard.utils import tournament,reorganize, Logger, plot_curve\n",
    "from rlcard.games.nolimitholdem.game import Stage"
   ]
  },
  {
   "cell_type": "code",
   "execution_count": 69,
   "outputs": [],
   "source": [
    "env = rlcard.make('no-limit-holdem')\n",
    "\n",
    "agent = DQNAgent(\n",
    "    num_actions=env.num_actions,\n",
    "    state_shape=env.state_shape[0],\n",
    "    mlp_layers=[64,64]\n",
    ")\n",
    "\n",
    "env.set_agents([agent,RandomAgent(num_actions=4),RandomAgent(num_actions=4)])"
   ],
   "metadata": {
    "collapsed": false,
    "ExecuteTime": {
     "end_time": "2023-09-26T23:31:56.766598Z",
     "start_time": "2023-09-26T23:31:56.755838Z"
    }
   },
   "id": "e73f55c635575ce6"
  },
  {
   "cell_type": "code",
   "execution_count": 127,
   "outputs": [
    {
     "name": "stdout",
     "output_type": "stream",
     "text": [
      "[-100  100]\n",
      "-100\n"
     ]
    }
   ],
   "source": [
    "trajectories, payoffs = env.run(is_training=True)\n",
    "trajectories = reorganize(trajectories, payoffs)"
   ],
   "metadata": {
    "collapsed": false,
    "ExecuteTime": {
     "end_time": "2023-09-27T01:23:58.628785Z",
     "start_time": "2023-09-27T01:23:58.622560Z"
    }
   },
   "id": "c6651d59c072f1f6"
  },
  {
   "cell_type": "code",
   "execution_count": 128,
   "outputs": [],
   "source": [
    "def cards_to_binary(cards):\n",
    "    binary_list = [0] * 52\n",
    "    for card in cards:\n",
    "        value=0\n",
    "        suit=0\n",
    "        if card[1] == \"K\":\n",
    "            value+=12\n",
    "        elif card[1] == \"Q\":\n",
    "            value+=11\n",
    "        elif card[1] == \"J\":\n",
    "            value+=10\n",
    "        elif card[1] == \"T\":\n",
    "            value+=9\n",
    "        elif card[1] == \"A\":\n",
    "            pass\n",
    "        else:\n",
    "            value+=int(card[1])-1\n",
    "        if card[0] == \"S\":\n",
    "            suit+=1\n",
    "        elif card[0] == \"C\":\n",
    "            suit+=2\n",
    "        elif card[0] == \"D\":\n",
    "            suit+=3\n",
    "        binary_list[suit*13+value]+=1\n",
    "    return binary_list"
   ],
   "metadata": {
    "collapsed": false,
    "ExecuteTime": {
     "end_time": "2023-09-27T01:23:58.961470Z",
     "start_time": "2023-09-27T01:23:58.952669Z"
    }
   },
   "id": "151a472e507e3059"
  },
  {
   "cell_type": "code",
   "execution_count": 8,
   "outputs": [],
   "source": [
    "def action_to_binary(legal_actions):\n",
    "    # print(trajectories[1][0][0][\"legal_actions\"][2])\n",
    "    actions = [0, 0 , 0 , 0 , 0]\n",
    "    #          F, C, RH, R,  A\n",
    "    for key in legal_actions.keys():\n",
    "        actions[key]=1\n",
    "    return actions"
   ],
   "metadata": {
    "collapsed": false,
    "ExecuteTime": {
     "end_time": "2023-09-26T23:05:47.238876Z",
     "start_time": "2023-09-26T23:05:47.235433Z"
    }
   },
   "id": "2f73882f69286429"
  },
  {
   "cell_type": "code",
   "execution_count": 9,
   "outputs": [],
   "source": [
    "def stage_to_binary(stage):\n",
    "    stages = [0, 0 , 0 , 0 , 0, 0]\n",
    "    if stage == Stage.PREFLOP:\n",
    "        stages[0]=1\n",
    "        return stages\n",
    "    elif stage ==  Stage.FLOP:\n",
    "        stages[1]=1\n",
    "        return stages\n",
    "    elif stage ==  Stage.TURN:\n",
    "        stages[2]=1\n",
    "        return stages\n",
    "    elif stage ==  Stage.RIVER:\n",
    "        stages[3]=1\n",
    "        return stages\n",
    "    elif stage ==  Stage.END_HIDDEN:\n",
    "        stages[4]=1\n",
    "        return stages\n",
    "    elif stage ==  Stage.SHOWDOWN:\n",
    "        stages[5]=1\n",
    "        return stages"
   ],
   "metadata": {
    "collapsed": false,
    "ExecuteTime": {
     "end_time": "2023-09-26T23:05:47.243470Z",
     "start_time": "2023-09-26T23:05:47.240847Z"
    }
   },
   "id": "b26683c69be4833e"
  },
  {
   "cell_type": "code",
   "execution_count": 143,
   "outputs": [],
   "source": [
    "def int_to_binary(pot):\n",
    "    if pot>=0:\n",
    "        pos=0\n",
    "    else:\n",
    "        pos=1\n",
    "    pot=abs(pot)\n",
    "    num = list(bin(pot)[2:])\n",
    "    while len(num)!=7:\n",
    "        num.insert(0,0)\n",
    "    num.insert(0,pos)\n",
    "    return(num)"
   ],
   "metadata": {
    "collapsed": false,
    "ExecuteTime": {
     "end_time": "2023-09-27T02:17:37.070623Z",
     "start_time": "2023-09-27T02:17:37.065568Z"
    }
   },
   "id": "b6e297abb170205a"
  },
  {
   "cell_type": "code",
   "execution_count": 147,
   "outputs": [
    {
     "name": "stdout",
     "output_type": "stream",
     "text": [
      "[0, '1', '1', '1', '1', '1', '1', '1']\n"
     ]
    }
   ],
   "source": [
    "# print(trajectories)ffs)\n",
    "\n",
    "items=[]\n",
    "hand=trajectories[0][0][0]['raw_obs']['hand']#52\n",
    "public_cards=trajectories[0][0][0]['raw_obs']['public_cards']#52\n",
    "legal_actions=trajectories[0][0][0][\"legal_actions\"]#5\n",
    "stage=trajectories[0][0][0]['raw_obs'][\"stage\"] #6\n",
    "pot=trajectories[0][0][0]['raw_obs'][\"pot\"] #8\n",
    "my_chips=trajectories[0][0][0]['raw_obs'][\"my_chips\"] #8\n",
    "all_chips=trajectories[0][0][0]['raw_obs'][\"all_chips\"] #16\n",
    "playoff = payoffs[1] #8"
   ],
   "metadata": {
    "collapsed": false,
    "ExecuteTime": {
     "end_time": "2023-09-27T02:17:49.782876Z",
     "start_time": "2023-09-27T02:17:49.776283Z"
    }
   },
   "id": "714dfe102765e4f4"
  },
  {
   "cell_type": "code",
   "execution_count": 130,
   "outputs": [],
   "source": [],
   "metadata": {
    "collapsed": false,
    "ExecuteTime": {
     "end_time": "2023-09-27T02:02:47.945861Z",
     "start_time": "2023-09-27T02:02:47.935590Z"
    }
   },
   "id": "91bbe5eafa4381b8"
  },
  {
   "cell_type": "code",
   "execution_count": 74,
   "outputs": [
    {
     "ename": "ValueError",
     "evalue": "invalid literal for int() with base 10: 'b11111'",
     "output_type": "error",
     "traceback": [
      "\u001B[0;31m---------------------------------------------------------------------------\u001B[0m",
      "\u001B[0;31mValueError\u001B[0m                                Traceback (most recent call last)",
      "Cell \u001B[0;32mIn[74], line 1\u001B[0m\n\u001B[0;32m----> 1\u001B[0m \u001B[38;5;28mprint\u001B[39m(\u001B[38;5;28;43mint\u001B[39;49m\u001B[43m(\u001B[49m\u001B[38;5;28;43mbin\u001B[39;49m\u001B[43m(\u001B[49m\u001B[38;5;241;43m31\u001B[39;49m\u001B[43m)\u001B[49m\u001B[43m[\u001B[49m\u001B[38;5;241;43m1\u001B[39;49m\u001B[43m:\u001B[49m\u001B[43m]\u001B[49m\u001B[43m)\u001B[49m)\n",
      "\u001B[0;31mValueError\u001B[0m: invalid literal for int() with base 10: 'b11111'"
     ]
    }
   ],
   "source": [],
   "metadata": {
    "collapsed": false,
    "ExecuteTime": {
     "end_time": "2023-09-26T23:38:25.517428Z",
     "start_time": "2023-09-26T23:38:25.495448Z"
    }
   },
   "id": "3d699c24ba13f2e2"
  },
  {
   "cell_type": "code",
   "execution_count": null,
   "outputs": [],
   "source": [],
   "metadata": {
    "collapsed": false,
    "ExecuteTime": {
     "start_time": "2023-09-26T23:05:47.354356Z"
    }
   },
   "id": "d7e4aad2d05454fd"
  },
  {
   "cell_type": "code",
   "execution_count": null,
   "outputs": [],
   "source": [],
   "metadata": {
    "collapsed": false,
    "ExecuteTime": {
     "start_time": "2023-09-26T23:05:47.356315Z"
    }
   },
   "id": "7000cc7e94ae8ee3"
  }
 ],
 "metadata": {
  "kernelspec": {
   "display_name": "Python 3",
   "language": "python",
   "name": "python3"
  },
  "language_info": {
   "codemirror_mode": {
    "name": "ipython",
    "version": 2
   },
   "file_extension": ".py",
   "mimetype": "text/x-python",
   "name": "python",
   "nbconvert_exporter": "python",
   "pygments_lexer": "ipython2",
   "version": "2.7.6"
  }
 },
 "nbformat": 4,
 "nbformat_minor": 5
}
